{
 "cells": [
  {
   "cell_type": "code",
   "outputs": [],
   "source": [
    "import numpy as np"
   ],
   "metadata": {
    "collapsed": false,
    "ExecuteTime": {
     "end_time": "2024-03-04T10:14:01.918277Z",
     "start_time": "2024-03-04T10:14:01.915716Z"
    }
   },
   "execution_count": 13
  },
  {
   "cell_type": "markdown",
   "metadata": {},
   "source": [
    "# Algebra and Calculus"
   ]
  },
  {
   "cell_type": "markdown",
   "metadata": {},
   "source": [
    "# Vectors"
   ]
  },
  {
   "cell_type": "markdown",
   "source": [
    "## Dot Product"
   ],
   "metadata": {
    "collapsed": false
   }
  },
  {
   "cell_type": "markdown",
   "source": [
    "**Calculate the inner product of $\\vec{u} = (2,3)$ and $\\vec{v} = (4,1)$.**\n",
    "<br>\n",
    "$\\vec{u} \\cdot \\vec{v} = (2*4) + (3*1) = 8 + 3 = 11$"
   ],
   "metadata": {
    "collapsed": false
   }
  },
  {
   "cell_type": "code",
   "outputs": [
    {
     "data": {
      "text/plain": "11"
     },
     "execution_count": 14,
     "metadata": {},
     "output_type": "execute_result"
    }
   ],
   "source": [
    "a = np.array([2, 3])\n",
    "b = np.array([4, 1])\n",
    "\n",
    "np.dot(a, b)"
   ],
   "metadata": {
    "collapsed": false,
    "ExecuteTime": {
     "end_time": "2024-03-04T10:14:01.930932Z",
     "start_time": "2024-03-04T10:14:01.927191Z"
    }
   },
   "execution_count": 14
  },
  {
   "cell_type": "markdown",
   "metadata": {},
   "source": [
    "**What’s the geometric interpretation of the dot product of two vectors?**\n",
    "  \n",
    "Dot product measures the similarity between two vectors. \n",
    "* parallel and pointing in the same direction, corresponds to the product of their lengths.\n",
    "* parallel and pointing in the opposite direction, corresponds to the product of their lengths multiplied by -1.\n",
    "* perpendicular, corresponds to zero.\n",
    "<br>\n",
    "$\\vec{A} \\cdot \\vec{B}  = \\vert\\vec{A}\\vert \\cdot \\vert\\vec{B}\\vert \\cdot \\cos(\\theta)$\n",
    "\n",
    "Geometrically, the dot product can be thought of as projecting one vector onto another. \n",
    "Think of it as projecting a vector  $\\vec{A}$ onto vector $\\vec{B}$ (or vice versa) and then multiplying the length \n",
    "of the projection by the length of the vector $\\vec{B}$."
   ]
  },
  {
   "cell_type": "markdown",
   "metadata": {},
   "source": [
    "**Given a vector $\\vec{u}$, find vector $\\vec{v}$ of unit length such that the dot product of $\\vec{u} \\cdot \n",
    "\\vec{v}$ is maximum.**\n",
    "\n",
    "We know that $\\cos({\\theta}) \\in [-1,1]$ therefore you want $\\cos({\\theta}) = 1$ to maximise the dot product, which \n",
    "is when $\\theta=0^o$.\n",
    "\n",
    "Given the calculation of dot product $\\vec{u} \\cdot \\vec{v}  = \\vert\\vec{u}\\vert \\cdot \\vert\\vec{v}\\vert \\cdot \\cos\n",
    "(\\theta)$ and since $\\vert\\vec{v}\\vert = 1$ and $\\cos({\\theta}) = 1$ we have:\n",
    "<br>\n",
    "$\\vec{u} \\cdot \\vec{v}  = \\vert\\vec{u}\\vert \\Rightarrow\n",
    "\\vec{v}=\\frac{\\vec{v}}{\\vert\\vec{v}\\vert}$"
   ]
  },
  {
   "cell_type": "markdown",
   "source": [
    "## Outer Product"
   ],
   "metadata": {
    "collapsed": false
   }
  },
  {
   "cell_type": "markdown",
   "source": [
    "\n",
    "**Given two vectors $a = \\begin{bmatrix} 3 \\\\ 2 \\\\ 1  \\end{bmatrix}$ and  $b = \\begin{bmatrix} -1 \\\\ 0 \\\\1  \n",
    "\\end{bmatrix}$. Calculate the outer product $a \\otimes b$.**\n",
    "<br>\n",
    "$a \\otimes b = ab^T = \\begin{bmatrix} 3 \\\\ 2 \\\\ 1  \\end{bmatrix} \\begin{bmatrix} -1 \\ 0 \\ 1  \\end{bmatrix} = \n",
    "\\begin{bmatrix} - 3 \\ 0 \\ 3 \\\\ -2 \\ 0 \\ 2  \\\\ -1 \\ 0 \\ 1 \\\\ \\end{bmatrix}$\n",
    "\n",
    "\n",
    " "
   ],
   "metadata": {
    "collapsed": false
   }
  },
  {
   "cell_type": "code",
   "outputs": [
    {
     "data": {
      "text/plain": "array([[-3,  0,  3],\n       [-2,  0,  2],\n       [-1,  0,  1]])"
     },
     "execution_count": 15,
     "metadata": {},
     "output_type": "execute_result"
    }
   ],
   "source": [
    "a = np.array([3, 2, 1])\n",
    "b = np.array([-1, 0, 1])\n",
    "\n",
    "np.outer(a, b)"
   ],
   "metadata": {
    "collapsed": false,
    "ExecuteTime": {
     "end_time": "2024-03-04T10:14:01.936408Z",
     "start_time": "2024-03-04T10:14:01.932569Z"
    }
   },
   "execution_count": 15
  },
  {
   "cell_type": "markdown",
   "source": [
    "**Give an example of how the outer product can be useful in ML.**\n",
    "\n",
    "* Matrix Factorisation, suppose a matrix $A$ that represents user-item interactions, where entry $A[i][j]$ represents\n",
    " the rating given by user $i$ to item $j$. The goal is to factorize this matrix into $A \\approx UV^T$, where $U$ \n",
    " represents the latent features of the users and $V$ the latent features of the items.\n",
    " * Backpropagation: "
   ],
   "metadata": {
    "collapsed": false
   }
  },
  {
   "cell_type": "code",
   "outputs": [],
   "source": [
    "#TODO:  Backpropagation"
   ],
   "metadata": {
    "collapsed": false,
    "ExecuteTime": {
     "end_time": "2024-03-04T10:14:01.939413Z",
     "start_time": "2024-03-04T10:14:01.937408Z"
    }
   },
   "execution_count": 16
  },
  {
   "cell_type": "markdown",
   "source": [
    "## Linearly Independent"
   ],
   "metadata": {
    "collapsed": false
   }
  },
  {
   "cell_type": "markdown",
   "source": [
    "**What does it mean for two vectors to be linearly independent?**\n",
    "**Given two sets of vectors $A = {a_1, a_2, a_3, ..., a_n}$ and $B = {b_1, b_2, b_3, ... , b_m}$. How do you check that they share the same basis?**\n",
    "**Given $n$ vectors, each of $d$ dimensions. What is the dimension of their span?**"
   ],
   "metadata": {
    "collapsed": false
   }
  },
  {
   "cell_type": "markdown",
   "source": [
    "## Norms and Metrics\n",
    "**What's a norm? What is $L_0, L_1, L_2, L_{norm}$?**\n",
    "**How do norm and metrics differ? Given a norm, make a metric. Given a metric, can we make a norm?**\n"
   ],
   "metadata": {
    "collapsed": false
   }
  }
 ],
 "metadata": {
  "kernelspec": {
   "display_name": "maths-OP9GTB1U-py3.11",
   "language": "python",
   "name": "python3"
  },
  "language_info": {
   "codemirror_mode": {
    "name": "ipython",
    "version": 3
   },
   "file_extension": ".py",
   "mimetype": "text/x-python",
   "name": "python",
   "nbconvert_exporter": "python",
   "pygments_lexer": "ipython3",
   "version": "3.11.2"
  }
 },
 "nbformat": 4,
 "nbformat_minor": 2
}
